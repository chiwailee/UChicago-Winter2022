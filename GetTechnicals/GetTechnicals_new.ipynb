{
 "cells": [
  {
   "cell_type": "code",
   "execution_count": 30,
   "id": "0a14b42a",
   "metadata": {},
   "outputs": [
    {
     "data": {
      "text/plain": [
       "\"\\nlets use Finta technical analysis project\\n\\nit assumes the following columns date, open, high,low, close  - lower case\\n\\nit can calulate the following technical indicators\\n* Simple Moving Average 'SMA'\\n* Simple Moving Median 'SMM'\\n* Smoothed Simple Moving Average 'SSMA'\\n* Exponential Moving Average 'EMA'\\n* Double Exponential Moving Average 'DEMA'\\n* Triple Exponential Moving Average 'TEMA'\\n* Triangular Moving Average 'TRIMA'\\n* Triple Exponential Moving Average Oscillator 'TRIX'\\n* Volume Adjusted Moving Average 'VAMA'\\n* Kaufman Efficiency Indicator 'ER'\\n* Kaufman's Adaptive Moving Average 'KAMA'\\n* Zero Lag Exponential Moving Average 'ZLEMA'\\n* Weighted Moving Average 'WMA'\\n* Hull Moving Average 'HMA'\\n* Elastic Volume Moving Average 'EVWMA'\\n* Volume Weighted Average Price 'VWAP'\\n* Smoothed Moving Average 'SMMA'\\n* Fractal Adaptive Moving Average 'FRAMA'\\n* Moving Average Convergence Divergence 'MACD'\\n* Percentage Price Oscillator 'PPO'\\n* Volume-Weighted MACD 'VW_MACD'\\n* Elastic-Volume weighted MACD 'EV_MACD'\\n* Market Momentum 'MOM'\\n* Rate-of-Change 'ROC'\\n* Relative Strenght Index 'RSI'\\n* Inverse Fisher Transform RSI 'IFT_RSI'\\n* True Range 'TR'\\n* Average True Range 'ATR'\\n* Stop-and-Reverse 'SAR'\\n* Bollinger Bands 'BBANDS'\\n* Bollinger Bands Width 'BBWIDTH'\\n* Momentum Breakout Bands 'MOBO'\\n* Percent B 'PERCENT_B'\\n* Keltner Channels 'KC'\\n* Donchian Channel 'DO'\\n* Directional Movement Indicator 'DMI'\\n* Average Directional Index 'ADX'\\n* Pivot Points 'PIVOT'\\n* Fibonacci Pivot Points 'PIVOT_FIB'\\n* Stochastic Oscillator %K 'STOCH'\\n* Stochastic oscillator %D 'STOCHD'\\n* Stochastic RSI 'STOCHRSI'\\n* Williams %R 'WILLIAMS'\\n* Ultimate Oscillator 'UO'\\n* Awesome Oscillator 'AO'\\n* Mass Index 'MI'\\n* Vortex Indicator 'VORTEX'\\n* Know Sure Thing 'KST'\\n* True Strength Index 'TSI'\\n* Typical Price 'TP'\\n* Accumulation-Distribution Line 'ADL'\\n* Chaikin Oscillator 'CHAIKIN'\\n* Money Flow Index 'MFI'\\n* On Balance Volume 'OBV'\\n* Weighter OBV 'WOBV'\\n* Volume Zone Oscillator 'VZO'\\n* Price Zone Oscillator 'PZO'\\n* Elder's Force Index 'EFI'\\n* Cummulative Force Index 'CFI'\\n* Bull power and Bear Power 'EBBP'\\n* Ease of Movement 'EMV'\\n* Commodity Channel Index 'CCI'\\n* Coppock Curve 'COPP'\\n* Buy and Sell Pressure 'BASP'\\n* Normalized BASP 'BASPN'\\n* Chande Momentum Oscillator 'CMO'\\n* Chandelier Exit 'CHANDELIER'\\n* Qstick 'QSTICK'\\n* Twiggs Money Index 'TMF'\\n* Wave Trend Oscillator 'WTO'\\n* Fisher Transform 'FISH'\\n* Ichimoku Cloud 'ICHIMOKU'\\n* Adaptive Price Zone 'APZ'\\n* Squeeze Momentum Indicator 'SQZMI'\\n* Volume Price Trend 'VPT'\\n* Finite Volume Element 'FVE'\\n* Volume Flow Indicator 'VFI'\\n* Moving Standard deviation 'MSD'\\n* Schaff Trend Cycle 'STC'\\n* Mark Whistler's WAVE PM 'WAVEPM'\\n\\n\""
      ]
     },
     "execution_count": 30,
     "metadata": {},
     "output_type": "execute_result"
    }
   ],
   "source": [
    "'''\n",
    "lets use Finta technical analysis project\n",
    "\n",
    "it assumes the following columns date, open, high,low, close  - lower case\n",
    "\n",
    "it can calulate the following technical indicators\n",
    "* Simple Moving Average 'SMA'\n",
    "* Simple Moving Median 'SMM'\n",
    "* Smoothed Simple Moving Average 'SSMA'\n",
    "* Exponential Moving Average 'EMA'\n",
    "* Double Exponential Moving Average 'DEMA'\n",
    "* Triple Exponential Moving Average 'TEMA'\n",
    "* Triangular Moving Average 'TRIMA'\n",
    "* Triple Exponential Moving Average Oscillator 'TRIX'\n",
    "* Volume Adjusted Moving Average 'VAMA'\n",
    "* Kaufman Efficiency Indicator 'ER'\n",
    "* Kaufman's Adaptive Moving Average 'KAMA'\n",
    "* Zero Lag Exponential Moving Average 'ZLEMA'\n",
    "* Weighted Moving Average 'WMA'\n",
    "* Hull Moving Average 'HMA'\n",
    "* Elastic Volume Moving Average 'EVWMA'\n",
    "* Volume Weighted Average Price 'VWAP'\n",
    "* Smoothed Moving Average 'SMMA'\n",
    "* Fractal Adaptive Moving Average 'FRAMA'\n",
    "* Moving Average Convergence Divergence 'MACD'\n",
    "* Percentage Price Oscillator 'PPO'\n",
    "* Volume-Weighted MACD 'VW_MACD'\n",
    "* Elastic-Volume weighted MACD 'EV_MACD'\n",
    "* Market Momentum 'MOM'\n",
    "* Rate-of-Change 'ROC'\n",
    "* Relative Strenght Index 'RSI'\n",
    "* Inverse Fisher Transform RSI 'IFT_RSI'\n",
    "* True Range 'TR'\n",
    "* Average True Range 'ATR'\n",
    "* Stop-and-Reverse 'SAR'\n",
    "* Bollinger Bands 'BBANDS'\n",
    "* Bollinger Bands Width 'BBWIDTH'\n",
    "* Momentum Breakout Bands 'MOBO'\n",
    "* Percent B 'PERCENT_B'\n",
    "* Keltner Channels 'KC'\n",
    "* Donchian Channel 'DO'\n",
    "* Directional Movement Indicator 'DMI'\n",
    "* Average Directional Index 'ADX'\n",
    "* Pivot Points 'PIVOT'\n",
    "* Fibonacci Pivot Points 'PIVOT_FIB'\n",
    "* Stochastic Oscillator %K 'STOCH'\n",
    "* Stochastic oscillator %D 'STOCHD'\n",
    "* Stochastic RSI 'STOCHRSI'\n",
    "* Williams %R 'WILLIAMS'\n",
    "* Ultimate Oscillator 'UO'\n",
    "* Awesome Oscillator 'AO'\n",
    "* Mass Index 'MI'\n",
    "* Vortex Indicator 'VORTEX'\n",
    "* Know Sure Thing 'KST'\n",
    "* True Strength Index 'TSI'\n",
    "* Typical Price 'TP'\n",
    "* Accumulation-Distribution Line 'ADL'\n",
    "* Chaikin Oscillator 'CHAIKIN'\n",
    "* Money Flow Index 'MFI'\n",
    "* On Balance Volume 'OBV'\n",
    "* Weighter OBV 'WOBV'\n",
    "* Volume Zone Oscillator 'VZO'\n",
    "* Price Zone Oscillator 'PZO'\n",
    "* Elder's Force Index 'EFI'\n",
    "* Cummulative Force Index 'CFI'\n",
    "* Bull power and Bear Power 'EBBP'\n",
    "* Ease of Movement 'EMV'\n",
    "* Commodity Channel Index 'CCI'\n",
    "* Coppock Curve 'COPP'\n",
    "* Buy and Sell Pressure 'BASP'\n",
    "* Normalized BASP 'BASPN'\n",
    "* Chande Momentum Oscillator 'CMO'\n",
    "* Chandelier Exit 'CHANDELIER'\n",
    "* Qstick 'QSTICK'\n",
    "* Twiggs Money Index 'TMF'\n",
    "* Wave Trend Oscillator 'WTO'\n",
    "* Fisher Transform 'FISH'\n",
    "* Ichimoku Cloud 'ICHIMOKU'\n",
    "* Adaptive Price Zone 'APZ'\n",
    "* Squeeze Momentum Indicator 'SQZMI'\n",
    "* Volume Price Trend 'VPT'\n",
    "* Finite Volume Element 'FVE'\n",
    "* Volume Flow Indicator 'VFI'\n",
    "* Moving Standard deviation 'MSD'\n",
    "* Schaff Trend Cycle 'STC'\n",
    "* Mark Whistler's WAVE PM 'WAVEPM'\n",
    "\n",
    "'''\n"
   ]
  },
  {
   "cell_type": "code",
   "execution_count": 31,
   "id": "c7a75ad1",
   "metadata": {},
   "outputs": [],
   "source": [
    "import pandas as pd\n",
    "import numpy as np\n",
    "from finta import TA\n",
    "from finta.utils import resample_calendar\n",
    "import matplotlib.pyplot as plt\n"
   ]
  },
  {
   "cell_type": "code",
   "execution_count": 32,
   "id": "a6f0729a",
   "metadata": {},
   "outputs": [],
   "source": [
    "# lets set up a generic file reader\n",
    "path = \"c://data//\"\n",
    "suffix = \".csv\"\n",
    "ticker = 'ty'\n",
    "filename = path + ticker + suffix\n"
   ]
  },
  {
   "cell_type": "code",
   "execution_count": 33,
   "id": "964f6ddc",
   "metadata": {},
   "outputs": [
    {
     "name": "stdout",
     "output_type": "stream",
     "text": [
      "                           open         low        high       close     t\n",
      "date                                                                     \n",
      "2017-12-19 03:00:00  119.828125  119.812500  119.859375  119.843750   3.0\n",
      "2017-12-19 05:00:00  119.843750  119.828125  119.859375  119.828125   5.0\n",
      "2017-12-19 07:00:00  119.812500  119.812500  119.859375  119.843750   7.0\n",
      "2017-12-19 09:00:00  119.671875  119.562500  119.687500  119.578125   9.0\n",
      "2017-12-19 11:00:00  119.500000  119.390625  119.515625  119.406250  11.0\n"
     ]
    }
   ],
   "source": [
    "# lets read  in the data into price dataframe\n",
    "price = pd.read_csv(filename, index_col=\"date\", parse_dates=True)\n",
    "\n",
    "# now lets only trade every 2 hours during the day\n",
    "price['t'] = price.index.hour + price.index.minute/60\n",
    "tradingtimes = [3,5,7,9,11,13,15,19,21]  \n",
    "price = price[price['t'].isin(tradingtimes)]\n",
    "\n",
    "print(price.head())"
   ]
  },
  {
   "cell_type": "code",
   "execution_count": 34,
   "id": "46425aff",
   "metadata": {},
   "outputs": [
    {
     "name": "stdout",
     "output_type": "stream",
     "text": [
      "                           open         low        high       close     t  \\\n",
      "date                                                                        \n",
      "2022-10-28 07:00:00  111.140625  111.140625  111.187500  111.140625   7.0   \n",
      "2022-10-28 09:00:00  111.171875  110.796875  111.484375  110.953125   9.0   \n",
      "2022-10-28 11:00:00  111.218750  111.140625  111.343750  111.250000  11.0   \n",
      "2022-10-28 13:00:00  111.062500  111.046875  111.109375  111.046875  13.0   \n",
      "2022-10-28 15:00:00  110.968750  110.859375  111.015625  111.015625  15.0   \n",
      "\n",
      "                          rsi      macd        wr       adx        er  \\\n",
      "date                                                                    \n",
      "2022-10-28 07:00:00  0.523040  0.280583 -0.554217  0.216623  0.200000   \n",
      "2022-10-28 09:00:00  0.482144  0.229185 -0.698795  0.205244  0.135135   \n",
      "2022-10-28 11:00:00  0.543063  0.209987 -0.469880  0.194677  0.072464   \n",
      "2022-10-28 13:00:00  0.499745  0.176349 -0.626506  0.187023  0.387387   \n",
      "2022-10-28 15:00:00  0.493227  0.145492 -0.650602  0.184108  0.352381   \n",
      "\n",
      "                           d1        d2        d3        d4        d5  \\\n",
      "date                                                                    \n",
      "2022-10-28 07:00:00 -0.296875 -0.031250 -0.265625 -0.093750  0.156250   \n",
      "2022-10-28 09:00:00 -0.187500 -0.296875 -0.031250 -0.265625 -0.093750   \n",
      "2022-10-28 11:00:00  0.296875 -0.187500 -0.296875 -0.031250 -0.265625   \n",
      "2022-10-28 13:00:00 -0.203125  0.296875 -0.187500 -0.296875 -0.031250   \n",
      "2022-10-28 15:00:00 -0.031250 -0.203125  0.296875 -0.187500 -0.296875   \n",
      "\n",
      "                           d6        d7        d8        d9       d10  \n",
      "date                                                                   \n",
      "2022-10-28 07:00:00  0.078125 -0.125000  0.625000  0.453125 -0.062500  \n",
      "2022-10-28 09:00:00  0.156250  0.078125 -0.125000  0.625000  0.453125  \n",
      "2022-10-28 11:00:00 -0.093750  0.156250  0.078125 -0.125000  0.625000  \n",
      "2022-10-28 13:00:00 -0.265625 -0.093750  0.156250  0.078125 -0.125000  \n",
      "2022-10-28 15:00:00 -0.031250 -0.265625 -0.093750  0.156250  0.078125  \n"
     ]
    }
   ],
   "source": [
    "\n",
    "\n",
    "#lets create df which will hold the prices and technical indicators\n",
    "df = price\n",
    "df['rsi'] = TA.RSI(price)/100\n",
    "\n",
    "macd = TA.MACD(price)\n",
    "df['macd'] = macd['MACD']\n",
    "\n",
    "williams = TA.WILLIAMS(price)/100\n",
    "dfwilliams = williams.to_frame()\n",
    "df = df.join(dfwilliams)\n",
    "df = df.rename(columns={'14 Williams %R':'wr'})\n",
    "\n",
    "adx = TA.ADX(price)\n",
    "adx = adx/100\n",
    "df = df.join(adx)\n",
    "df = df.rename(columns={'14 period ADX.':'adx'})\n",
    "\n",
    "\n",
    "er = TA.ER(price)\n",
    "df = df.join(er)\n",
    "df = df.rename(columns={'10 period ER':'er'})\n",
    "\n",
    "# now that we have the tech indicators, lets add in some 1 period changes..\n",
    "df['d1'] = df['close'] - df['close'].shift(1)\n",
    "df['d2'] = df['d1'].shift(1)\n",
    "df['d3'] = df['d2'].shift(1)\n",
    "df['d4'] = df['d3'].shift(1)\n",
    "df['d5'] = df['d4'].shift(1)\n",
    "df['d6'] = df['d5'].shift(1)\n",
    "df['d7'] = df['d6'].shift(1)\n",
    "df['d8'] = df['d7'].shift(1)\n",
    "df['d9'] = df['d8'].shift(1)\n",
    "df['d10'] = df['d9'].shift(1)\n",
    "df = df.dropna()\n",
    "\n",
    "\n",
    "# now lets create the input file for a deep-learning model\n",
    "filename = path + \"dl_\" + ticker + suffix\n",
    "\n",
    "df.to_csv(filename)\n",
    "df.to_csv()\n",
    "\n",
    "\n",
    "print(df.tail())"
   ]
  },
  {
   "cell_type": "code",
   "execution_count": 35,
   "id": "d956cf51",
   "metadata": {},
   "outputs": [
    {
     "name": "stdout",
     "output_type": "stream",
     "text": [
      "                          rsi      macd        wr       adx        er  \\\n",
      "date                                                                    \n",
      "2017-12-20 11:00:00  0.193685 -0.055635 -0.920000  1.000000  0.538462   \n",
      "2017-12-20 13:00:00  0.262834 -0.057105 -0.840000  0.719681  0.288889   \n",
      "2017-12-20 15:00:00  0.221854 -0.065084 -1.000000  0.502946  0.288889   \n",
      "2017-12-20 19:00:00  0.282123 -0.066493 -0.897436  0.394875  0.260870   \n",
      "2017-12-20 21:00:00  0.296786 -0.065771 -0.821429  0.310261  0.288889   \n",
      "\n",
      "                           d1        d2        d3        d4        d5  \\\n",
      "date                                                                    \n",
      "2017-12-20 11:00:00 -0.015625 -0.187500 -0.046875  0.078125 -0.078125   \n",
      "2017-12-20 13:00:00  0.062500 -0.015625 -0.187500 -0.046875  0.078125   \n",
      "2017-12-20 15:00:00 -0.125000  0.062500 -0.015625 -0.187500 -0.046875   \n",
      "2017-12-20 19:00:00  0.062500 -0.125000  0.062500 -0.015625 -0.187500   \n",
      "2017-12-20 21:00:00  0.015625  0.062500 -0.125000  0.062500 -0.015625   \n",
      "\n",
      "                           d6        d7        d8        d9       d10  \\\n",
      "date                                                                    \n",
      "2017-12-20 11:00:00  0.031250  0.031250  0.046875 -0.125000 -0.171875   \n",
      "2017-12-20 13:00:00 -0.078125  0.031250  0.031250  0.046875 -0.125000   \n",
      "2017-12-20 15:00:00  0.078125 -0.078125  0.031250  0.031250  0.046875   \n",
      "2017-12-20 19:00:00 -0.046875  0.078125 -0.078125  0.031250  0.031250   \n",
      "2017-12-20 21:00:00 -0.187500 -0.046875  0.078125 -0.078125  0.031250   \n",
      "\n",
      "                          fut  \n",
      "date                           \n",
      "2017-12-20 11:00:00  0.062500  \n",
      "2017-12-20 13:00:00 -0.125000  \n",
      "2017-12-20 15:00:00  0.062500  \n",
      "2017-12-20 19:00:00  0.015625  \n",
      "2017-12-20 21:00:00  0.000000  \n"
     ]
    }
   ],
   "source": [
    "# now lets make input file for the XGBoost model\n",
    "\n",
    "# add a 'fut' column  which is the next periods return\n",
    "df['fut'] = df['close'].shift(-1) - df['close']\n",
    "\n",
    "# take out open,high,low and close columns\n",
    "df = df.drop(['open','high','low','close','t'], axis=1)\n",
    "\n",
    "# make the dfate index a column\n",
    "#df['date'] = df.index\n",
    "print(df.head())\n"
   ]
  },
  {
   "cell_type": "code",
   "execution_count": 36,
   "id": "5df474b5",
   "metadata": {},
   "outputs": [],
   "source": [
    "# now lets create the input file\n",
    "filename = path + \"qm_data_\" + ticker + suffix\n",
    "\n",
    "df.to_csv(filename)"
   ]
  },
  {
   "cell_type": "code",
   "execution_count": 37,
   "id": "f2024f04",
   "metadata": {},
   "outputs": [],
   "source": [
    "# now goto the XGBoost model and read in the file we created above and see how the model works.\n"
   ]
  },
  {
   "cell_type": "code",
   "execution_count": null,
   "id": "db6ae238",
   "metadata": {},
   "outputs": [],
   "source": [
    "\n",
    "\n"
   ]
  }
 ],
 "metadata": {
  "kernelspec": {
   "display_name": "Python 3 (ipykernel)",
   "language": "python",
   "name": "python3"
  },
  "language_info": {
   "codemirror_mode": {
    "name": "ipython",
    "version": 3
   },
   "file_extension": ".py",
   "mimetype": "text/x-python",
   "name": "python",
   "nbconvert_exporter": "python",
   "pygments_lexer": "ipython3",
   "version": "3.9.7"
  }
 },
 "nbformat": 4,
 "nbformat_minor": 5
}
